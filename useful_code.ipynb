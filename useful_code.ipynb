{
 "cells": [
  {
   "cell_type": "markdown",
   "id": "cab73c17-7ef3-44d7-8693-5ad611c7c383",
   "metadata": {},
   "source": [
    "## Get the list_environment_variables"
   ]
  },
  {
   "cell_type": "code",
   "execution_count": null,
   "id": "6e4e6fb0-a015-4233-b4db-27998d5545a1",
   "metadata": {},
   "outputs": [],
   "source": [
    "import os\n",
    "\n",
    "\n",
    "for k, v in sorted(os.environ.items()):\n",
    "    print(k+':', v)\n",
    "print('\\n')\n",
    "# list elements in path environment variable\n",
    "[print(item) for item in os.environ['PATH'].split(';')]"
   ]
  },
  {
   "cell_type": "code",
   "execution_count": null,
   "id": "75b37101-b96e-4722-9fcf-410e7bc81909",
   "metadata": {},
   "outputs": [],
   "source": []
  },
  {
   "cell_type": "code",
   "execution_count": null,
   "id": "106c077a-1840-40ef-a1e5-1d460cacb937",
   "metadata": {},
   "outputs": [],
   "source": [
    "git config --global user.email \"s.kasmani@outlook.com\"\n",
    "git config --global user.name \"amirgholipour\""
   ]
  },
  {
   "cell_type": "code",
   "execution_count": null,
   "id": "d1fdf70f-b8d8-496d-88d7-0b7636ff1045",
   "metadata": {},
   "outputs": [],
   "source": [
    "import time\n",
    "import subprocess\n",
    "\n",
    "repoDir= os.getcwd() # your git repository , windows your need to use double backslash for right directory.\n",
    "path, filename = os.path.split(os.getcwd()) # repo name\n",
    "cmd = 'git config --global user.email '+ email\n",
    "\n",
    "pipe = subprocess.Popen(cmd, shell=True, cwd=repoDir,stdout = subprocess.PIPE,stderr = subprocess.PIPE )\n",
    "(out, error) = pipe.communicate()\n",
    "print (out,error)\n",
    "\n",
    "cmd = 'git config --global user.name '+ username\n",
    "pipe = subprocess.Popen(cmd, shell=True, cwd=repoDir,stdout = subprocess.PIPE,stderr = subprocess.PIPE )\n",
    "(out, error) = pipe.communicate()\n",
    "print (out,error)\n",
    "    \n",
    "    \n",
    "    \n",
    "def gitAdd(fileName, repoDir):\n",
    "    cmd = 'git add ' + fileName\n",
    "    pipe = subprocess.Popen(cmd, shell=True, cwd=repoDir,stdout = subprocess.PIPE,stderr = subprocess.PIPE )\n",
    "    (out, error) = pipe.communicate()\n",
    "    print (out,error)\n",
    "    pipe.wait()\n",
    "    return \n",
    "\n",
    "def gitCommit(commitMessage, repoDir):\n",
    "    cmd = 'git commit -am \"%s\"'%commitMessage\n",
    "    pipe = subprocess.Popen(cmd, shell=True, cwd=repoDir,stdout = subprocess.PIPE,stderr = subprocess.PIPE )\n",
    "    (out, error) = pipe.communicate()\n",
    "    print (out,error)\n",
    "    pipe.wait()\n",
    "    return \n",
    "def gitPush(repoDir):\n",
    "    # cmd = 'git push '\n",
    "    cmd = 'git push https://'+token+'@github.com/'+username+'/'+filename+'.git'\n",
    "\n",
    "    pipe = subprocess.Popen(cmd, shell=True, cwd=repoDir,stdout = subprocess.PIPE,stderr = subprocess.PIPE )\n",
    "    print(\"passed!\")\n",
    "    (out, error) = pipe.communicate()\n",
    "    print(\"passed!\")\n",
    "    print (out, error)\n",
    "    pipe.wait()\n",
    "    return \n",
    "\n",
    "temp=time.localtime(time.time())\n",
    "uploaddate= str(temp[0])+'_'+str(temp[1])+'_'+str(temp[2])+'_'+str(temp[3])+'_'+str(temp[4])\n",
    "\n",
    "\n",
    "repoDir= os.getcwd()\n",
    "gitAdd('.',repoDir )\n",
    "gitCommit(uploaddate, repoDir)\n",
    "gitPush(repoDir)\n",
    "\n",
    "\n"
   ]
  },
  {
   "cell_type": "code",
   "execution_count": null,
   "id": "553095bf-3188-43bc-b38b-9884fb589d2d",
   "metadata": {},
   "outputs": [],
   "source": []
  },
  {
   "cell_type": "code",
   "execution_count": null,
   "id": "6ef47160-46d5-4fc2-90f9-cc1d5b3106d2",
   "metadata": {},
   "outputs": [],
   "source": []
  }
 ],
 "metadata": {
  "kernelspec": {
   "display_name": "Python 3 (ipykernel)",
   "language": "python",
   "name": "python3"
  },
  "language_info": {
   "codemirror_mode": {
    "name": "ipython",
    "version": 3
   },
   "file_extension": ".py",
   "mimetype": "text/x-python",
   "name": "python",
   "nbconvert_exporter": "python",
   "pygments_lexer": "ipython3",
   "version": "3.8.8"
  }
 },
 "nbformat": 4,
 "nbformat_minor": 5
}

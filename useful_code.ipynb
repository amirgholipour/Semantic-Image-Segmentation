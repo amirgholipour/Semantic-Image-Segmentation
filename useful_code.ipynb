{
 "cells": [
  {
   "cell_type": "markdown",
   "id": "cab73c17-7ef3-44d7-8693-5ad611c7c383",
   "metadata": {},
   "source": [
    "## Get the list_environment_variables"
   ]
  },
  {
   "cell_type": "code",
   "execution_count": null,
   "id": "6e4e6fb0-a015-4233-b4db-27998d5545a1",
   "metadata": {},
   "outputs": [],
   "source": [
    "import os\n",
    "\n",
    "\n",
    "for k, v in sorted(os.environ.items()):\n",
    "    print(k+':', v)\n",
    "print('\\n')\n",
    "# list elements in path environment variable\n",
    "[print(item) for item in os.environ['PATH'].split(';')]"
   ]
  },
  {
   "cell_type": "code",
   "execution_count": null,
   "id": "75b37101-b96e-4722-9fcf-410e7bc81909",
   "metadata": {},
   "outputs": [],
   "source": []
  },
  {
   "cell_type": "code",
   "execution_count": null,
   "id": "106c077a-1840-40ef-a1e5-1d460cacb937",
   "metadata": {},
   "outputs": [],
   "source": [
    "import requests\n",
    "import json\n",
    "\n",
    "####\n",
    "# inputs\n",
    "####\n",
    "username = ''\n",
    "\n",
    "# from https://github.com/user/settings/tokens\n",
    "token = ''\n",
    "\n",
    "repos_url = 'https://api.github.com/user/repos'\n",
    "\n",
    "# create a re-usable session object with the user creds in-built\n",
    "gh_session = requests.Session()\n",
    "gh_session.auth = (username, token)\n",
    "\n",
    "# get the list of repos belonging to me\n",
    "repos = json.loads(gh_session.get(repos_url).text)\n",
    "\n",
    "# print the repo names\n",
    "for repo in repos:\n",
    "    print repo['name']"
   ]
  }
 ],
 "metadata": {
  "kernelspec": {
   "display_name": "Python 3 (ipykernel)",
   "language": "python",
   "name": "python3"
  },
  "language_info": {
   "codemirror_mode": {
    "name": "ipython",
    "version": 3
   },
   "file_extension": ".py",
   "mimetype": "text/x-python",
   "name": "python",
   "nbconvert_exporter": "python",
   "pygments_lexer": "ipython3",
   "version": "3.8.8"
  }
 },
 "nbformat": 4,
 "nbformat_minor": 5
}
